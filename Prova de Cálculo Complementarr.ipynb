{
 "cells": [
  {
   "cell_type": "code",
   "execution_count": 21,
   "metadata": {},
   "outputs": [
    {
     "name": "stdout",
     "output_type": "stream",
     "text": [
      "estimando a variação da produção se mais 1 operário especializado for contratado e o número de operários não especializado permanecer constante. {var} 2099.999899999966\n"
     ]
    }
   ],
   "source": [
    "import pylab as plt\n",
    "\n",
    "y = lambda x: 1200*x + 500*60 + (x**2)*60 - x**3 - 60**2\n",
    "\n",
    "def derivada_central(funcao, a, h=0.01):\n",
    "  return (funcao(a+h)-funcao(a-h))/(2*h)\n",
    "var = derivada_central(y, 30)\n",
    "print(\"estimando a variação da produção se mais 1 operário especializado for contratado e o número de operários não especializado permanecer constante. {var}\",var)\n"
   ]
  },
  {
   "cell_type": "markdown",
   "metadata": {},
   "source": [
    "import pylab as plt\n",
    "import numpy as np\n",
    "\n",
    "y = lambda x: -400*(x**2)+ 6800*x-12000\n",
    "\n",
    "def derivada_central(funcao, a, h=0.01):\n",
    "    return (funcao(a+h)-funcao(a-h))/(2*h)\n",
    "\n",
    "dx = derivada_central(y, 9000)\n",
    "\n",
    "if(dx<=0):\n",
    "    prejuizo = dx\n",
    "    print(\"Prejuizo de: {prejuizo}\",prejuizo)\n",
    "else:\n",
    "    lucro = dx\n",
    "    print(\"Lucro: {lucro}\",lucro)\n",
    "\n"
   ]
  },
  {
   "cell_type": "code",
   "execution_count": 19,
   "metadata": {},
   "outputs": [
    {
     "name": "stdout",
     "output_type": "stream",
     "text": [
      "Determine os dados do problema:\n",
      "\n",
      "A criança pesa 34kg\n",
      " A criança tem 1m e 20cm\n",
      "\n",
      "\n",
      "Calcule as derivadas parciais Sw(50,163) e SH(50, 163) e interprete-as como taxas de variação:\n",
      "\n",
      "Estime qual será a variação da área superficial se a criança engordar 1 Kg e altura permanecer inalterada. \n",
      "Variação em relação ao peso: {var_peso}  0.01296133363370977\n",
      "Variação em relação a altura: {var_altura} 0.006782365088242592\n"
     ]
    }
   ],
   "source": [
    "print(\"Determine os dados do problema:\\n\")\n",
    "print(\"A criança pesa 34kg\\n A criança tem 1m e 20cm\\n\\n\")\n",
    "\n",
    "print(\"Calcule as derivadas parciais Sw(50,163) e SH(50, 163) e interprete-as como taxas de variação:\\n\")\n",
    "print(\"Estime qual será a variação da área superficial se a criança engordar 1 Kg e altura permanecer inalterada. \")\n",
    "peso = lambda x:  0.0072 * (x**0.425) * (163**0.725) \n",
    "altura = lambda x:  0.0072 * (50**0.425) * (x**0.725) \n",
    "\n",
    "def derivada_central(funcao, a, kg=0.01):\n",
    "    return (funcao(a+kg)-funcao(a-kg))/(2*kg)\n",
    "\n",
    "var_peso = derivada_central(peso, 50)\n",
    "var_altura = derivada_central(altura, 163)\n",
    "print(\"Variação em relação ao peso: {var_peso} \",var_peso)\n",
    "print(\"Variação em relação a altura: {var_altura}\",var_altura)\n",
    "\n"
   ]
  },
  {
   "cell_type": "code",
   "execution_count": null,
   "metadata": {},
   "outputs": [],
   "source": [
    "\n",
    "\n"
   ]
  }
 ],
 "metadata": {
  "kernelspec": {
   "display_name": "Python 3",
   "language": "python",
   "name": "python3"
  },
  "language_info": {
   "codemirror_mode": {
    "name": "ipython",
    "version": 3
   },
   "file_extension": ".py",
   "mimetype": "text/x-python",
   "name": "python",
   "nbconvert_exporter": "python",
   "pygments_lexer": "ipython3",
   "version": "3.7.1"
  }
 },
 "nbformat": 4,
 "nbformat_minor": 2
}
